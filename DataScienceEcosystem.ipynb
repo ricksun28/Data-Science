{
 "cells": [
  {
   "cell_type": "markdown",
   "id": "4208c8dd-cded-4c76-828e-00a23a8831e6",
   "metadata": {},
   "source": [
    "# Data Science Tools and Ecosystem"
   ]
  },
  {
   "cell_type": "markdown",
   "id": "84fb5a07-4507-4370-a662-05ac56349c21",
   "metadata": {},
   "source": [
    "In this notebook, Data Science tools and Ecosystem are summarized."
   ]
  },
  {
   "cell_type": "markdown",
   "id": "935695cb-efb6-46f7-819d-731c2e5c7169",
   "metadata": {},
   "source": [
    "Objectives:\n",
    "- List popular languages for data science\n",
    "- List commonly used libraries for data science\n",
    "- List commonly used tools for data science\n",
    "- Write code for basic arithmetic"
   ]
  },
  {
   "cell_type": "markdown",
   "id": "4d4af592-d57f-4c35-9acc-d62083812748",
   "metadata": {},
   "source": [
    "Some of the popular languages that data scientists use are:\n",
    "1. Python\n",
    "2. SQL\n",
    "3. R"
   ]
  },
  {
   "cell_type": "markdown",
   "id": "c8e9ea49-36b3-4421-9802-0e8cdfcd7679",
   "metadata": {},
   "source": [
    "Some of the commonly used libraries used by data scientists include:\n",
    "1. numpy\n",
    "2. pandas\n",
    "3. matplotlib"
   ]
  },
  {
   "cell_type": "markdown",
   "id": "ce0bba9a-aeea-4526-af81-a97a50bde650",
   "metadata": {},
   "source": [
    "| Data Science Tools |\n",
    "| ------------------ |\n",
    "| Jupyter Notebook |\n",
    "| RStudio |\n",
    "| GitHub |"
   ]
  },
  {
   "cell_type": "markdown",
   "id": "1ee4c0db-d197-4c3d-8246-b65367634700",
   "metadata": {},
   "source": [
    "### Below are a few examples of evaluating arithmetic expressions in Python."
   ]
  },
  {
   "cell_type": "code",
   "execution_count": 4,
   "id": "f6aa8463-c9b6-4ce8-88ab-290a3986d3b3",
   "metadata": {},
   "outputs": [
    {
     "data": {
      "text/plain": [
       "17"
      ]
     },
     "execution_count": 4,
     "metadata": {},
     "output_type": "execute_result"
    }
   ],
   "source": [
    "#this is a simply arithmetic operation to multiply then add integers\n",
    "(3 * 4) + 5"
   ]
  },
  {
   "cell_type": "code",
   "execution_count": 6,
   "id": "dd182d09-82bf-4909-b3ed-a26102eb9d38",
   "metadata": {},
   "outputs": [
    {
     "name": "stdout",
     "output_type": "stream",
     "text": [
      "200 minutes is 3.3333333333333335 hours\n"
     ]
    }
   ],
   "source": [
    "#This will convert 200 minutes to hours by dividing by 60.\n",
    "x = 200/60\n",
    "print(f\"200 minutes is {x} hours\")"
   ]
  },
  {
   "cell_type": "markdown",
   "id": "37096517-3cb9-488d-a3f8-d679e777feaf",
   "metadata": {},
   "source": [
    "## Author\n",
    "Rick Sun"
   ]
  },
  {
   "cell_type": "code",
   "execution_count": null,
   "id": "4afb177e-1928-4dd4-baee-9258a9c20a07",
   "metadata": {},
   "outputs": [],
   "source": []
  }
 ],
 "metadata": {
  "kernelspec": {
   "display_name": "Python 3 (ipykernel)",
   "language": "python",
   "name": "python3"
  },
  "language_info": {
   "codemirror_mode": {
    "name": "ipython",
    "version": 3
   },
   "file_extension": ".py",
   "mimetype": "text/x-python",
   "name": "python",
   "nbconvert_exporter": "python",
   "pygments_lexer": "ipython3",
   "version": "3.11.5"
  }
 },
 "nbformat": 4,
 "nbformat_minor": 5
}
